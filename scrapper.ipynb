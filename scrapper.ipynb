{
 "cells": [
  {
   "cell_type": "markdown",
   "metadata": {},
   "source": [
    "## Imports"
   ]
  },
  {
   "cell_type": "code",
   "execution_count": 1,
   "metadata": {},
   "outputs": [
    {
     "name": "stdout",
     "output_type": "stream",
     "text": [
      "\r",
      "[0:00:00][----------] 0.00% "
     ]
    }
   ],
   "source": [
    "from selenium import webdriver\n",
    "from selenium.webdriver.common.keys import Keys\n",
    "import re\n",
    "import pandas as pd\n",
    "import numpy as np\n",
    "import sys\n",
    "sys.path.append(\"./sources/\") if \"./sources/\" not in sys.path else ''\n",
    "import utils\n",
    "\n",
    "progbar = utils.ProgressBar(elapsed_time=True)\n",
    "progbar.update_progress(0)"
   ]
  },
  {
   "cell_type": "markdown",
   "metadata": {},
   "source": [
    "## Parameters"
   ]
  },
  {
   "cell_type": "code",
   "execution_count": 53,
   "metadata": {},
   "outputs": [],
   "source": [
    "uf = \"AC\"\n",
    "start_page = 1"
   ]
  },
  {
   "cell_type": "markdown",
   "metadata": {},
   "source": [
    "## Setting Driver and Variables"
   ]
  },
  {
   "cell_type": "code",
   "execution_count": 3,
   "metadata": {},
   "outputs": [],
   "source": [
    "driver = webdriver.Chrome()"
   ]
  },
  {
   "cell_type": "code",
   "execution_count": 58,
   "metadata": {},
   "outputs": [
    {
     "name": "stdout",
     "output_type": "stream",
     "text": [
      "Number of pages do crawl:  242\n"
     ]
    }
   ],
   "source": [
    "url = \"https://portal.cfm.org.br/index.php?option=com_medicos&nomeMedico=&ufMedico={}&crmMedico=&municipioMedico=&tipoInscricaoMedico=&situacaoMedico=&detalheSituacaoMedico=&especialidadeMedico=&areaAtuacaoMedico=&pagina=3\"\n",
    "url = url.format(uf)\n",
    "driver.get(url)\n",
    "result = re.search(\"Mostrando página \\d de (\\d+)\", driver.page_source)\n",
    "end_page = 15000 if result == None else int(result.groups()[0])\n",
    "\n",
    "print (\"Number of pages do crawl: \", end_page)"
   ]
  },
  {
   "cell_type": "markdown",
   "metadata": {},
   "source": [
    "## Running Crawler"
   ]
  },
  {
   "cell_type": "code",
   "execution_count": 62,
   "metadata": {},
   "outputs": [
    {
     "name": "stdout",
     "output_type": "stream",
     "text": [
      "[0:07:16][##########] 99.17% "
     ]
    }
   ],
   "source": [
    "if start_page <= 1:\n",
    "    df = pd.DataFrame(columns=[\"page\", \"name\", \"crm\", \"state\", \"subscription_date\", \n",
    "               \"subscription_type\", \"status\", \"second_subscription\", \"address\", \"phone\", \n",
    "               \"photo_url\"])\n",
    "    \n",
    "for page in range(start_page, end_page, 1):\n",
    "    progbar.update_progress((page-1)/end_page)\n",
    "    \n",
    "    if (len(driver.find_elements_by_class_name(\"resultado-mobile-coluna\")) == 0):\n",
    "        input(\"No profiles found for page {}. Reenter the captcha:\".format(page))\n",
    "    \n",
    "    perfis = driver.find_elements_by_class_name(\"resultado-mobile-coluna\")\n",
    "    photos = driver.find_elements_by_class_name(\"img-thumbnail\")\n",
    "    \n",
    "    for i_perfil, perfil in enumerate(perfis):    \n",
    "        dados = perfil.text.split('\\n')     \n",
    "\n",
    "        name = dados[0]\n",
    "\n",
    "        result = re.search(\"\\d+\", dados[1])\n",
    "        crm = None if not result else result.group()\n",
    "\n",
    "        result = re.search(\"\\w{2}$\", dados[1])\n",
    "        state = None if not result else result.group()\n",
    "\n",
    "        result = re.search(\"Data de Inscrição: (.*)\", dados[2])\n",
    "        subscription_date = None if result == None else result.groups()[0]\n",
    "\n",
    "        result = re.search(\"Inscrição: (.*)\", dados[3])\n",
    "        subscription_type = None if result == None else result.groups()[0]\n",
    "\n",
    "        result = re.search(\"Situação: (.*)\", dados[4])\n",
    "        status = None if result == None else result.groups()[0]\n",
    "\n",
    "        result = re.search(\"Inscrições em outro estado: (.*)\", dados[5])\n",
    "        second_subscription = None if result == None else result.groups()[0]\n",
    "        \n",
    "        result = re.search(\"Especialidades/Áreas de Atuação: (.*)\", dados[6])\n",
    "        specialty = None if result == None else result.groups()[0]\n",
    "\n",
    "        result = re.search(\"Endereço: (.*)\", dados[7])\n",
    "        address = None if result == 0 else result.groups()[0]\n",
    "\n",
    "        result = re.search(\"Telefone\\(s\\): (.*)\", dados[8])\n",
    "        phone = None if result == None else result.groups()[0]        \n",
    "\n",
    "        photo_url = photos[i_perfil].get_attribute(\"src\")\n",
    "        \n",
    "        df.loc[df.shape[0]] = [page, name, crm, state, subscription_date, \n",
    "               subscription_type, status, second_subscription, address, phone, photo_url]\n",
    "\n",
    "    next_url = re.sub(r\"&pagina=\\d+\", \"&pagina={}\".format(page+1), url)\n",
    "    driver.get(next_url)"
   ]
  },
  {
   "cell_type": "code",
   "execution_count": 66,
   "metadata": {},
   "outputs": [
    {
     "name": "stdout",
     "output_type": "stream",
     "text": [
      "Number of extracted profiles for AC: 2410\n"
     ]
    }
   ],
   "source": [
    "print (\"Number of extracted profiles for {}: {}\".format(uf, df.shape[0]))"
   ]
  },
  {
   "cell_type": "code",
   "execution_count": 67,
   "metadata": {},
   "outputs": [],
   "source": [
    "df.to_csv(\"./data/profiles/df_{}.csv\".format(uf), sep=';', index=None)"
   ]
  },
  {
   "cell_type": "code",
   "execution_count": 68,
   "metadata": {},
   "outputs": [],
   "source": [
    "driver.close()"
   ]
  },
  {
   "cell_type": "code",
   "execution_count": null,
   "metadata": {},
   "outputs": [],
   "source": [
    "# df[\"phone\"].apply(lambda x: None if x == \"Exibição não autorizada pelo médico.\" else x)\n",
    "# df[df[\"phone\"].astype(str) != 'None'].query(\"phone != 'Exibição não autorizada pelo médico.' & phone != None\").shape"
   ]
  }
 ],
 "metadata": {
  "kernelspec": {
   "display_name": "Python 3",
   "language": "python",
   "name": "python3"
  },
  "language_info": {
   "codemirror_mode": {
    "name": "ipython",
    "version": 3
   },
   "file_extension": ".py",
   "mimetype": "text/x-python",
   "name": "python",
   "nbconvert_exporter": "python",
   "pygments_lexer": "ipython3",
   "version": "3.6.4"
  }
 },
 "nbformat": 4,
 "nbformat_minor": 2
}
